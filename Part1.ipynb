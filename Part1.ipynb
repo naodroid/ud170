{
 "cells": [
  {
   "cell_type": "code",
   "execution_count": 2,
   "metadata": {
    "collapsed": true
   },
   "outputs": [],
   "source": [
    "import unicodecsv\n",
    "from datetime import datetime as dt\n",
    "\n",
    "def read_csv(file_name):\n",
    "    with open(file_name, 'rb') as f:\n",
    "        reader = unicodecsv.DictReader(f)\n",
    "        result = []\n",
    "        for row in reader:\n",
    "            result.append(row)\n",
    "        return result\n",
    "\n",
    "def convert_to_bool(row, key):\n",
    "    value = row[key]\n",
    "    row[key] = (value.lower() == 'true')\n",
    "\n",
    "def convert_to_int(row, key):\n",
    "    value = row[key]\n",
    "    if value == '':\n",
    "        row[key] = None\n",
    "    else:\n",
    "        row[key] = int(float(value))\n",
    "\n",
    "def convert_to_date(row, key):\n",
    "    value = row[key]\n",
    "    if value == '':\n",
    "        row[key] = None\n",
    "    else:\n",
    "        row[key] = dt.strptime(value, '%Y-%m-%d')\n"
   ]
  },
  {
   "cell_type": "code",
   "execution_count": 3,
   "metadata": {
    "collapsed": true
   },
   "outputs": [],
   "source": [
    "def read_enrollments():\n",
    "    list = read_csv('enrollments.csv')\n",
    "    for row in list:\n",
    "        convert_to_int(row, \"account_key\")\n",
    "        convert_to_date(row, \"cancel_date\")\n",
    "        convert_to_int(row, \"days_to_cancel\")\n",
    "        convert_to_bool(row, \"is_canceled\")\n",
    "        convert_to_bool(row, \"is_udacity\")\n",
    "        convert_to_date(row, \"join_date\")\n",
    "    return list\n",
    "\n",
    "enrollments = read_enrollments()\n"
   ]
  },
  {
   "cell_type": "code",
   "execution_count": 4,
   "metadata": {
    "collapsed": true
   },
   "outputs": [],
   "source": [
    "def read_daily_engagement():\n",
    "    list = read_csv('daily_engagement.csv')\n",
    "    for row in list:\n",
    "        row[\"account_key\"] = row[\"acct\"]\n",
    "        del row[\"acct\"]\n",
    "        convert_to_int(row, \"account_key\")\n",
    "        convert_to_int(row, \"lessons_completed\")\n",
    "        convert_to_int(row, \"num_courses_visited\")\n",
    "        convert_to_int(row, \"projects_completed\")\n",
    "        convert_to_int(row, \"total_minutes_visited\")\n",
    "        convert_to_date(row, \"utc_date\")\n",
    "    return list        \n",
    "\n",
    "daily_engagement = read_daily_engagement()"
   ]
  },
  {
   "cell_type": "code",
   "execution_count": 5,
   "metadata": {},
   "outputs": [
    {
     "data": {
      "text/plain": [
       "{u'account_key': 256,\n",
       " u'assigned_rating': u'UNGRADED',\n",
       " u'completion_date': datetime.datetime(2015, 1, 16, 0, 0),\n",
       " u'creation_date': datetime.datetime(2015, 1, 14, 0, 0),\n",
       " u'lesson_key': u'3176718735',\n",
       " u'processing_state': u'EVALUATED'}"
      ]
     },
     "execution_count": 5,
     "metadata": {},
     "output_type": "execute_result"
    }
   ],
   "source": [
    "def read_project_submission():\n",
    "    list = read_csv('project_submissions.csv')\n",
    "    for row in list:\n",
    "        convert_to_int(row, \"account_key\")\n",
    "        convert_to_date(row, \"completion_date\")\n",
    "        convert_to_date(row, \"creation_date\")\n",
    "        # other lesson_key, assined_rating, processing_state : String\n",
    "    return list        \n",
    "\n",
    "project_submissions = read_project_submission()\n",
    "project_submissions[0]"
   ]
  },
  {
   "cell_type": "code",
   "execution_count": 6,
   "metadata": {},
   "outputs": [
    {
     "name": "stdout",
     "output_type": "stream",
     "text": [
      "1302\n",
      "1237\n",
      "743\n"
     ]
    }
   ],
   "source": [
    "def get_unique_users_set(user_list):\n",
    "    result = set()\n",
    "    for x in user_list:\n",
    "        result.add(x[\"account_key\"])\n",
    "    return result\n",
    "\n",
    "enrollment_user_set = get_unique_users_set(enrollments)\n",
    "daily_user_set = get_unique_users_set(daily_engagement)\n",
    "project_user_set = get_unique_users_set(project_submissions)\n",
    "\n",
    "print len(enrollment_user_set)\n",
    "print len(daily_user_set)\n",
    "print len(project_user_set)"
   ]
  },
  {
   "cell_type": "code",
   "execution_count": 18,
   "metadata": {
    "scrolled": true
   },
   "outputs": [
    {
     "name": "stdout",
     "output_type": "stream",
     "text": [
      "1622\n",
      "135656\n",
      "3634\n"
     ]
    }
   ],
   "source": [
    "udacity_accounts = set()\n",
    "udacity_count = 0\n",
    "for x in enrollments:\n",
    "    if x[\"is_udacity\"]:\n",
    "        udacity_count += 1\n",
    "        udacity_accounts.add(x[\"account_key\"])\n",
    "\n",
    "def remove_udacity_accounts(data_list):\n",
    "    return [x for x in data_list if x[\"account_key\"] not in udacity_accounts]\n",
    "\n",
    "non_udacity_enrollments = remove_udacity_accounts(enrollments)\n",
    "non_udacity_daily_engagement = remove_udacity_accounts(daily_engagement)\n",
    "non_udacity_project_submissions = remove_udacity_accounts(project_submissions)\n",
    "\n",
    "print len(non_udacity_enrollments)\n",
    "print len(non_udacity_daily_engagement)\n",
    "print len(non_udacity_project_submissions)"
   ]
  },
  {
   "cell_type": "code",
   "execution_count": 86,
   "metadata": {},
   "outputs": [
    {
     "name": "stdout",
     "output_type": "stream",
     "text": [
      "995\n"
     ]
    }
   ],
   "source": [
    "paid_students = dict()\n",
    "\n",
    "for x in non_udacity_enrollments:\n",
    "    start = x[\"join_date\"]\n",
    "    end = x[\"cancel_date\"]\n",
    "    if end == None or (end - start).days > 7:\n",
    "        acct = x[\"account_key\"]\n",
    "        join_date = x[\"join_date\"]\n",
    "        if not paid_students.has_key(acct) or join_date > paid_students[acct][\"join_date\"]:\n",
    "            paid_students[acct] = x            \n",
    "\n",
    "print len(paid_students)"
   ]
  },
  {
   "cell_type": "code",
   "execution_count": 93,
   "metadata": {},
   "outputs": [
    {
     "name": "stdout",
     "output_type": "stream",
     "text": [
      "21508\n"
     ]
    }
   ],
   "source": [
    "def is_in_one_week(enrollment_day, engagement_day):\n",
    "    delta = (engagement_day - enrollment_day).days\n",
    "    return  delta < 7\n",
    "\n",
    "paid_in_first_week_engagement = []\n",
    "\n",
    "paid_count = 0\n",
    "\n",
    "for eng in non_udacity_daily_engagement:\n",
    "    acct = eng[\"account_key\"]\n",
    "    if paid_students.has_key(acct):\n",
    "        enr = paid_students[acct]\n",
    "        if is_in_one_week(enr[\"join_date\"], eng[\"utc_date\"]):\n",
    "            paid_in_first_week_engagement.append(eng)\n",
    "            \n",
    "print len(paid_in_first_week_engagement)\n",
    "            \n",
    "        "
   ]
  },
  {
   "cell_type": "code",
   "execution_count": null,
   "metadata": {
    "collapsed": true
   },
   "outputs": [],
   "source": []
  },
  {
   "cell_type": "code",
   "execution_count": null,
   "metadata": {
    "collapsed": true
   },
   "outputs": [],
   "source": []
  }
 ],
 "metadata": {
  "kernelspec": {
   "display_name": "Python 2",
   "language": "python",
   "name": "python2"
  },
  "language_info": {
   "codemirror_mode": {
    "name": "ipython",
    "version": 2
   },
   "file_extension": ".py",
   "mimetype": "text/x-python",
   "name": "python",
   "nbconvert_exporter": "python",
   "pygments_lexer": "ipython2",
   "version": "2.7.14"
  }
 },
 "nbformat": 4,
 "nbformat_minor": 2
}
